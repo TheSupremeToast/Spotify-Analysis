{
 "cells": [
  {
   "cell_type": "markdown",
   "id": "7c4ad08f",
   "metadata": {},
   "source": [
    "## SpotiPy-Wrapped\n",
    "#### By: Patrick D\n",
    "### Usage Instructions:\n",
    "1) Request your personal data from Spotify:  spotify.com -> my profile -> privacy -> request personal data -> wait a few days  \n",
    "2) Unzip files into the input folder within this directory  \n",
    "3) Change the 'directory' variable to point to your folder  \n",
    "4) Run the notebook  \n",
    "5) Change input variables of functions to get more specific information  "
   ]
  },
  {
   "cell_type": "code",
   "execution_count": 2,
   "id": "60e1f400",
   "metadata": {
    "ExecuteTime": {
     "end_time": "2021-11-25T23:10:51.624490Z",
     "start_time": "2021-11-25T23:10:51.100722Z"
    }
   },
   "outputs": [],
   "source": [
    "import pandas as pd\n",
    "from matplotlib import pyplot as plt\n",
    "import os\n",
    "import os.path\n",
    "from pathlib import Path \n",
    "import time\n",
    "import datetime\n",
    "\n",
    "from notebook_funcs.cleaner import *\n",
    "from notebook_funcs.helper import *\n",
    "from notebook_funcs.live import *\n",
    "# Jupyter theming options: \n",
    "# from jupyterthemes import jtplot\n",
    "# jtplot.style()"
   ]
  },
  {
   "cell_type": "markdown",
   "id": "1569c115",
   "metadata": {},
   "source": [
    "### Data Cleaning"
   ]
  },
  {
   "cell_type": "code",
   "execution_count": null,
   "id": "693cc953",
   "metadata": {},
   "outputs": [],
   "source": [
    "# Import cleaner.py functions\n",
    "#from cleaner import *\n",
    "# Import helper.py functions\n",
    "#from helper import *"
   ]
  },
  {
   "cell_type": "code",
   "execution_count": 7,
   "id": "b02d43f6",
   "metadata": {},
   "outputs": [
    {
     "name": "stdout",
     "output_type": "stream",
     "text": [
      "/home/patrick/Documents/projects/SpotiPy-Wrapped/output/history.json\n"
     ]
    },
    {
     "data": {
      "text/html": [
       "<div>\n",
       "<style scoped>\n",
       "    .dataframe tbody tr th:only-of-type {\n",
       "        vertical-align: middle;\n",
       "    }\n",
       "\n",
       "    .dataframe tbody tr th {\n",
       "        vertical-align: top;\n",
       "    }\n",
       "\n",
       "    .dataframe thead th {\n",
       "        text-align: right;\n",
       "    }\n",
       "</style>\n",
       "<table border=\"1\" class=\"dataframe\">\n",
       "  <thead>\n",
       "    <tr style=\"text-align: right;\">\n",
       "      <th></th>\n",
       "      <th>timestamp</th>\n",
       "      <th>track_id</th>\n",
       "      <th>track_name</th>\n",
       "      <th>artist_name</th>\n",
       "      <th>album_name</th>\n",
       "      <th>progress_ms</th>\n",
       "      <th>duration_ms</th>\n",
       "      <th>skipped</th>\n",
       "      <th>completed</th>\n",
       "      <th>popularity</th>\n",
       "      <th>explicit</th>\n",
       "      <th>track_uri</th>\n",
       "      <th>artist_uri</th>\n",
       "      <th>album_uri</th>\n",
       "      <th>context_uri</th>\n",
       "      <th>album_image</th>\n",
       "    </tr>\n",
       "  </thead>\n",
       "  <tbody>\n",
       "    <tr>\n",
       "      <th>0</th>\n",
       "      <td>2022-08-31 15:52:47.947</td>\n",
       "      <td>5n0CTysih20NYdT2S0Wpe8</td>\n",
       "      <td>Trouble</td>\n",
       "      <td>Cage The Elephant</td>\n",
       "      <td>Tell Me I'm Pretty</td>\n",
       "      <td>223674</td>\n",
       "      <td>225973</td>\n",
       "      <td>False</td>\n",
       "      <td>True</td>\n",
       "      <td>71</td>\n",
       "      <td>False</td>\n",
       "      <td>spotify:track:5n0CTysih20NYdT2S0Wpe8</td>\n",
       "      <td>spotify:artist:26T3LtbuGT1Fu9m0eRq5X3</td>\n",
       "      <td>spotify:album:0nW0w37lrQ87k7PLZvC4qJ</td>\n",
       "      <td>spotify:playlist:0QQR1yi6S8rc1HF89yf0I7</td>\n",
       "      <td>https://i.scdn.co/image/ab67616d0000b273e7dd69...</td>\n",
       "    </tr>\n",
       "    <tr>\n",
       "      <th>1</th>\n",
       "      <td>2022-08-31 15:58:40.505</td>\n",
       "      <td>1BLOVHYYlH4JUHQGcpt75R</td>\n",
       "      <td>Ode To The Mets</td>\n",
       "      <td>The Strokes</td>\n",
       "      <td>The New Abnormal</td>\n",
       "      <td>351786</td>\n",
       "      <td>351786</td>\n",
       "      <td>False</td>\n",
       "      <td>True</td>\n",
       "      <td>66</td>\n",
       "      <td>False</td>\n",
       "      <td>spotify:track:1BLOVHYYlH4JUHQGcpt75R</td>\n",
       "      <td>spotify:artist:0epOFNiUfyON9EYx7Tpr6V</td>\n",
       "      <td>spotify:album:2xkZV2Hl1Omi8rk2D7t5lN</td>\n",
       "      <td>spotify:playlist:0QQR1yi6S8rc1HF89yf0I7</td>\n",
       "      <td>https://i.scdn.co/image/ab67616d0000b273bfa99a...</td>\n",
       "    </tr>\n",
       "    <tr>\n",
       "      <th>2</th>\n",
       "      <td>2022-08-31 15:59:50.026</td>\n",
       "      <td>2aD8Fa9NdsPobfyx12WJeF</td>\n",
       "      <td>Darling, It's True</td>\n",
       "      <td>Locksley</td>\n",
       "      <td>Locksley</td>\n",
       "      <td>69920</td>\n",
       "      <td>188386</td>\n",
       "      <td>False</td>\n",
       "      <td>False</td>\n",
       "      <td>10</td>\n",
       "      <td>False</td>\n",
       "      <td>spotify:track:2aD8Fa9NdsPobfyx12WJeF</td>\n",
       "      <td>spotify:artist:5RNwd3Bm5pgaERdZcBr7om</td>\n",
       "      <td>spotify:album:3HNaImXIAyjAx3yjJkekoZ</td>\n",
       "      <td>spotify:playlist:0QQR1yi6S8rc1HF89yf0I7</td>\n",
       "      <td>https://i.scdn.co/image/ab67616d0000b2734b1c57...</td>\n",
       "    </tr>\n",
       "    <tr>\n",
       "      <th>3</th>\n",
       "      <td>2022-08-31 16:00:31.186</td>\n",
       "      <td>2aD8Fa9NdsPobfyx12WJeF</td>\n",
       "      <td>Darling, It's True</td>\n",
       "      <td>Locksley</td>\n",
       "      <td>Locksley</td>\n",
       "      <td>67796</td>\n",
       "      <td>188386</td>\n",
       "      <td>False</td>\n",
       "      <td>False</td>\n",
       "      <td>10</td>\n",
       "      <td>False</td>\n",
       "      <td>spotify:track:2aD8Fa9NdsPobfyx12WJeF</td>\n",
       "      <td>spotify:artist:5RNwd3Bm5pgaERdZcBr7om</td>\n",
       "      <td>spotify:album:3HNaImXIAyjAx3yjJkekoZ</td>\n",
       "      <td>spotify:playlist:0QQR1yi6S8rc1HF89yf0I7</td>\n",
       "      <td>https://i.scdn.co/image/ab67616d0000b2734b1c57...</td>\n",
       "    </tr>\n",
       "    <tr>\n",
       "      <th>4</th>\n",
       "      <td>2022-08-31 16:00:33.581</td>\n",
       "      <td>2vWBUC9djv6BtiGlmKiQaH</td>\n",
       "      <td>YKWIM?</td>\n",
       "      <td>Yot Club</td>\n",
       "      <td>Bipolar</td>\n",
       "      <td>3363</td>\n",
       "      <td>212750</td>\n",
       "      <td>True</td>\n",
       "      <td>False</td>\n",
       "      <td>83</td>\n",
       "      <td>False</td>\n",
       "      <td>spotify:track:2vWBUC9djv6BtiGlmKiQaH</td>\n",
       "      <td>spotify:artist:6FugQjLquBF4JzATRN70bR</td>\n",
       "      <td>spotify:album:60jUlxAOAcsiQUEW0XLroT</td>\n",
       "      <td>spotify:playlist:0QQR1yi6S8rc1HF89yf0I7</td>\n",
       "      <td>https://i.scdn.co/image/ab67616d0000b2731a7281...</td>\n",
       "    </tr>\n",
       "    <tr>\n",
       "      <th>...</th>\n",
       "      <td>...</td>\n",
       "      <td>...</td>\n",
       "      <td>...</td>\n",
       "      <td>...</td>\n",
       "      <td>...</td>\n",
       "      <td>...</td>\n",
       "      <td>...</td>\n",
       "      <td>...</td>\n",
       "      <td>...</td>\n",
       "      <td>...</td>\n",
       "      <td>...</td>\n",
       "      <td>...</td>\n",
       "      <td>...</td>\n",
       "      <td>...</td>\n",
       "      <td>...</td>\n",
       "      <td>...</td>\n",
       "    </tr>\n",
       "    <tr>\n",
       "      <th>61</th>\n",
       "      <td>2022-09-09 16:16:59.677</td>\n",
       "      <td>6GXRPqb0daBCcA9SRJMTMe</td>\n",
       "      <td>hate the way you love me</td>\n",
       "      <td>renforshort</td>\n",
       "      <td>dear amelia</td>\n",
       "      <td>170559</td>\n",
       "      <td>173444</td>\n",
       "      <td>False</td>\n",
       "      <td>True</td>\n",
       "      <td>53</td>\n",
       "      <td>True</td>\n",
       "      <td>spotify:track:6GXRPqb0daBCcA9SRJMTMe</td>\n",
       "      <td>spotify:artist:3GYvf7puxwkr51EYoD9E7D</td>\n",
       "      <td>spotify:album:2BFeOSMMljkZs37e4uYLtG</td>\n",
       "      <td>spotify:playlist:0re1wRoPRXerbXFrKY4Tok</td>\n",
       "      <td>https://i.scdn.co/image/ab67616d0000b27337904c...</td>\n",
       "    </tr>\n",
       "    <tr>\n",
       "      <th>62</th>\n",
       "      <td>2022-09-09 16:22:52.050</td>\n",
       "      <td>1BLOVHYYlH4JUHQGcpt75R</td>\n",
       "      <td>Ode To The Mets</td>\n",
       "      <td>The Strokes</td>\n",
       "      <td>The New Abnormal</td>\n",
       "      <td>351786</td>\n",
       "      <td>351786</td>\n",
       "      <td>False</td>\n",
       "      <td>True</td>\n",
       "      <td>66</td>\n",
       "      <td>False</td>\n",
       "      <td>spotify:track:1BLOVHYYlH4JUHQGcpt75R</td>\n",
       "      <td>spotify:artist:0epOFNiUfyON9EYx7Tpr6V</td>\n",
       "      <td>spotify:album:2xkZV2Hl1Omi8rk2D7t5lN</td>\n",
       "      <td>spotify:playlist:0re1wRoPRXerbXFrKY4Tok</td>\n",
       "      <td>https://i.scdn.co/image/ab67616d0000b273bfa99a...</td>\n",
       "    </tr>\n",
       "    <tr>\n",
       "      <th>63</th>\n",
       "      <td>2022-09-09 16:22:54.741</td>\n",
       "      <td>7F2kyb2qBReMFHwWwcYeDb</td>\n",
       "      <td>Dancin'</td>\n",
       "      <td>Quarters of Change</td>\n",
       "      <td>Dancin'</td>\n",
       "      <td>83195</td>\n",
       "      <td>193570</td>\n",
       "      <td>False</td>\n",
       "      <td>False</td>\n",
       "      <td>23</td>\n",
       "      <td>False</td>\n",
       "      <td>spotify:track:7F2kyb2qBReMFHwWwcYeDb</td>\n",
       "      <td>spotify:artist:0mnruuV4CcKu7Ux7kBZ5sa</td>\n",
       "      <td>spotify:album:0aRze2oEqSKoAJFEyyjTuh</td>\n",
       "      <td>spotify:playlist:0re1wRoPRXerbXFrKY4Tok</td>\n",
       "      <td>https://i.scdn.co/image/ab67616d0000b2735cade8...</td>\n",
       "    </tr>\n",
       "    <tr>\n",
       "      <th>64</th>\n",
       "      <td>2022-09-09 16:43:03.511</td>\n",
       "      <td>7F2kyb2qBReMFHwWwcYeDb</td>\n",
       "      <td>Dancin'</td>\n",
       "      <td>Quarters of Change</td>\n",
       "      <td>Dancin'</td>\n",
       "      <td>170027</td>\n",
       "      <td>193570</td>\n",
       "      <td>False</td>\n",
       "      <td>False</td>\n",
       "      <td>23</td>\n",
       "      <td>False</td>\n",
       "      <td>spotify:track:7F2kyb2qBReMFHwWwcYeDb</td>\n",
       "      <td>spotify:artist:0mnruuV4CcKu7Ux7kBZ5sa</td>\n",
       "      <td>spotify:album:0aRze2oEqSKoAJFEyyjTuh</td>\n",
       "      <td>spotify:playlist:0re1wRoPRXerbXFrKY4Tok</td>\n",
       "      <td>https://i.scdn.co/image/ab67616d0000b2735cade8...</td>\n",
       "    </tr>\n",
       "    <tr>\n",
       "      <th>65</th>\n",
       "      <td>2022-09-09 16:53:43.967</td>\n",
       "      <td>0tkBOcK7oRVXQJY97zzSvr</td>\n",
       "      <td>Telescope</td>\n",
       "      <td>Cage The Elephant</td>\n",
       "      <td>Melophobia</td>\n",
       "      <td>228293</td>\n",
       "      <td>228293</td>\n",
       "      <td>False</td>\n",
       "      <td>True</td>\n",
       "      <td>64</td>\n",
       "      <td>False</td>\n",
       "      <td>spotify:track:0tkBOcK7oRVXQJY97zzSvr</td>\n",
       "      <td>spotify:artist:26T3LtbuGT1Fu9m0eRq5X3</td>\n",
       "      <td>spotify:album:4EK8gtQfdVsmDTji7gBFlz</td>\n",
       "      <td>spotify:playlist:0re1wRoPRXerbXFrKY4Tok</td>\n",
       "      <td>https://i.scdn.co/image/ab67616d0000b273fb1cb9...</td>\n",
       "    </tr>\n",
       "  </tbody>\n",
       "</table>\n",
       "<p>66 rows × 16 columns</p>\n",
       "</div>"
      ],
      "text/plain": [
       "                 timestamp                track_id                track_name  \\\n",
       "0  2022-08-31 15:52:47.947  5n0CTysih20NYdT2S0Wpe8                   Trouble   \n",
       "1  2022-08-31 15:58:40.505  1BLOVHYYlH4JUHQGcpt75R           Ode To The Mets   \n",
       "2  2022-08-31 15:59:50.026  2aD8Fa9NdsPobfyx12WJeF        Darling, It's True   \n",
       "3  2022-08-31 16:00:31.186  2aD8Fa9NdsPobfyx12WJeF        Darling, It's True   \n",
       "4  2022-08-31 16:00:33.581  2vWBUC9djv6BtiGlmKiQaH                    YKWIM?   \n",
       "..                     ...                     ...                       ...   \n",
       "61 2022-09-09 16:16:59.677  6GXRPqb0daBCcA9SRJMTMe  hate the way you love me   \n",
       "62 2022-09-09 16:22:52.050  1BLOVHYYlH4JUHQGcpt75R           Ode To The Mets   \n",
       "63 2022-09-09 16:22:54.741  7F2kyb2qBReMFHwWwcYeDb                   Dancin'   \n",
       "64 2022-09-09 16:43:03.511  7F2kyb2qBReMFHwWwcYeDb                   Dancin'   \n",
       "65 2022-09-09 16:53:43.967  0tkBOcK7oRVXQJY97zzSvr                 Telescope   \n",
       "\n",
       "           artist_name          album_name  progress_ms  duration_ms  skipped  \\\n",
       "0    Cage The Elephant  Tell Me I'm Pretty       223674       225973    False   \n",
       "1          The Strokes    The New Abnormal       351786       351786    False   \n",
       "2             Locksley            Locksley        69920       188386    False   \n",
       "3             Locksley            Locksley        67796       188386    False   \n",
       "4             Yot Club             Bipolar         3363       212750     True   \n",
       "..                 ...                 ...          ...          ...      ...   \n",
       "61         renforshort         dear amelia       170559       173444    False   \n",
       "62         The Strokes    The New Abnormal       351786       351786    False   \n",
       "63  Quarters of Change             Dancin'        83195       193570    False   \n",
       "64  Quarters of Change             Dancin'       170027       193570    False   \n",
       "65   Cage The Elephant          Melophobia       228293       228293    False   \n",
       "\n",
       "    completed  popularity  explicit                             track_uri  \\\n",
       "0        True          71     False  spotify:track:5n0CTysih20NYdT2S0Wpe8   \n",
       "1        True          66     False  spotify:track:1BLOVHYYlH4JUHQGcpt75R   \n",
       "2       False          10     False  spotify:track:2aD8Fa9NdsPobfyx12WJeF   \n",
       "3       False          10     False  spotify:track:2aD8Fa9NdsPobfyx12WJeF   \n",
       "4       False          83     False  spotify:track:2vWBUC9djv6BtiGlmKiQaH   \n",
       "..        ...         ...       ...                                   ...   \n",
       "61       True          53      True  spotify:track:6GXRPqb0daBCcA9SRJMTMe   \n",
       "62       True          66     False  spotify:track:1BLOVHYYlH4JUHQGcpt75R   \n",
       "63      False          23     False  spotify:track:7F2kyb2qBReMFHwWwcYeDb   \n",
       "64      False          23     False  spotify:track:7F2kyb2qBReMFHwWwcYeDb   \n",
       "65       True          64     False  spotify:track:0tkBOcK7oRVXQJY97zzSvr   \n",
       "\n",
       "                               artist_uri  \\\n",
       "0   spotify:artist:26T3LtbuGT1Fu9m0eRq5X3   \n",
       "1   spotify:artist:0epOFNiUfyON9EYx7Tpr6V   \n",
       "2   spotify:artist:5RNwd3Bm5pgaERdZcBr7om   \n",
       "3   spotify:artist:5RNwd3Bm5pgaERdZcBr7om   \n",
       "4   spotify:artist:6FugQjLquBF4JzATRN70bR   \n",
       "..                                    ...   \n",
       "61  spotify:artist:3GYvf7puxwkr51EYoD9E7D   \n",
       "62  spotify:artist:0epOFNiUfyON9EYx7Tpr6V   \n",
       "63  spotify:artist:0mnruuV4CcKu7Ux7kBZ5sa   \n",
       "64  spotify:artist:0mnruuV4CcKu7Ux7kBZ5sa   \n",
       "65  spotify:artist:26T3LtbuGT1Fu9m0eRq5X3   \n",
       "\n",
       "                               album_uri  \\\n",
       "0   spotify:album:0nW0w37lrQ87k7PLZvC4qJ   \n",
       "1   spotify:album:2xkZV2Hl1Omi8rk2D7t5lN   \n",
       "2   spotify:album:3HNaImXIAyjAx3yjJkekoZ   \n",
       "3   spotify:album:3HNaImXIAyjAx3yjJkekoZ   \n",
       "4   spotify:album:60jUlxAOAcsiQUEW0XLroT   \n",
       "..                                   ...   \n",
       "61  spotify:album:2BFeOSMMljkZs37e4uYLtG   \n",
       "62  spotify:album:2xkZV2Hl1Omi8rk2D7t5lN   \n",
       "63  spotify:album:0aRze2oEqSKoAJFEyyjTuh   \n",
       "64  spotify:album:0aRze2oEqSKoAJFEyyjTuh   \n",
       "65  spotify:album:4EK8gtQfdVsmDTji7gBFlz   \n",
       "\n",
       "                                context_uri  \\\n",
       "0   spotify:playlist:0QQR1yi6S8rc1HF89yf0I7   \n",
       "1   spotify:playlist:0QQR1yi6S8rc1HF89yf0I7   \n",
       "2   spotify:playlist:0QQR1yi6S8rc1HF89yf0I7   \n",
       "3   spotify:playlist:0QQR1yi6S8rc1HF89yf0I7   \n",
       "4   spotify:playlist:0QQR1yi6S8rc1HF89yf0I7   \n",
       "..                                      ...   \n",
       "61  spotify:playlist:0re1wRoPRXerbXFrKY4Tok   \n",
       "62  spotify:playlist:0re1wRoPRXerbXFrKY4Tok   \n",
       "63  spotify:playlist:0re1wRoPRXerbXFrKY4Tok   \n",
       "64  spotify:playlist:0re1wRoPRXerbXFrKY4Tok   \n",
       "65  spotify:playlist:0re1wRoPRXerbXFrKY4Tok   \n",
       "\n",
       "                                          album_image  \n",
       "0   https://i.scdn.co/image/ab67616d0000b273e7dd69...  \n",
       "1   https://i.scdn.co/image/ab67616d0000b273bfa99a...  \n",
       "2   https://i.scdn.co/image/ab67616d0000b2734b1c57...  \n",
       "3   https://i.scdn.co/image/ab67616d0000b2734b1c57...  \n",
       "4   https://i.scdn.co/image/ab67616d0000b2731a7281...  \n",
       "..                                                ...  \n",
       "61  https://i.scdn.co/image/ab67616d0000b27337904c...  \n",
       "62  https://i.scdn.co/image/ab67616d0000b273bfa99a...  \n",
       "63  https://i.scdn.co/image/ab67616d0000b2735cade8...  \n",
       "64  https://i.scdn.co/image/ab67616d0000b2735cade8...  \n",
       "65  https://i.scdn.co/image/ab67616d0000b273fb1cb9...  \n",
       "\n",
       "[66 rows x 16 columns]"
      ]
     },
     "execution_count": 7,
     "metadata": {},
     "output_type": "execute_result"
    }
   ],
   "source": [
    "his = read_logs()\n",
    "his"
   ]
  },
  {
   "cell_type": "code",
   "execution_count": null,
   "id": "264e1a6d",
   "metadata": {
    "scrolled": true
   },
   "outputs": [],
   "source": [
    "# create listening history dataframe from desired directory within input folder\n",
    "print(os.getcwd())\n",
    "directory = Path('input/20220904') # change this to '/input/your-directory-name'\n",
    "his = read_history(directory)\n",
    "\n",
    "# uncomment this if you want your dataframe output as a csv (change end of directory to your desired one)\n",
    "# his.to_csv('~/Documents/Python/Spotify-Analysis/input/12-06-21/his.csv', index = False)\n",
    "\n",
    "his.tail(5)"
   ]
  },
  {
   "cell_type": "code",
   "execution_count": null,
   "id": "5b17f5e7",
   "metadata": {
    "ExecuteTime": {
     "end_time": "2021-11-25T23:10:00.602737Z",
     "start_time": "2021-11-25T23:10:00.543978Z"
    },
    "scrolled": false
   },
   "outputs": [],
   "source": [
    "skipped = sort_skipped(his)\n",
    "unskipped = sort_unskipped(his)\n",
    "\n",
    "tracks = get_tracks(unskipped)\n",
    "artists = get_artists(unskipped)"
   ]
  },
  {
   "cell_type": "markdown",
   "id": "1ca0a5b7",
   "metadata": {},
   "source": [
    "### Graphs"
   ]
  },
  {
   "cell_type": "code",
   "execution_count": null,
   "id": "487284fe",
   "metadata": {
    "ExecuteTime": {
     "end_time": "2021-11-25T23:10:56.082744Z",
     "start_time": "2021-11-25T23:10:55.746202Z"
    },
    "scrolled": false
   },
   "outputs": [],
   "source": [
    "plt.rcParams['figure.figsize'] = [20, 8]\n",
    "plt.plot(tracks.head(100), 'o')\n",
    "plt.xticks(rotation = 90)\n",
    "plt.title('Most Played Tracks')\n",
    "plt.ylabel('Plays')\n",
    "plt.show()"
   ]
  },
  {
   "cell_type": "code",
   "execution_count": null,
   "id": "65628c12",
   "metadata": {
    "ExecuteTime": {
     "end_time": "2021-11-25T23:11:03.068835Z",
     "start_time": "2021-11-25T23:11:02.769937Z"
    },
    "scrolled": false
   },
   "outputs": [],
   "source": [
    "plt.rcParams['figure.figsize'] = [20, 8]\n",
    "plt.plot(artists.head(100), 'o')\n",
    "plt.xticks(rotation = 90)\n",
    "plt.title('Most Played Artists')\n",
    "plt.ylabel('Plays')\n",
    "plt.show()"
   ]
  },
  {
   "cell_type": "code",
   "execution_count": null,
   "id": "25e72ebf",
   "metadata": {
    "ExecuteTime": {
     "end_time": "2021-11-25T23:11:05.411649Z",
     "start_time": "2021-11-25T23:11:05.077395Z"
    },
    "scrolled": false
   },
   "outputs": [],
   "source": [
    "plotArtist(\"renforshort\", 100)"
   ]
  },
  {
   "cell_type": "code",
   "execution_count": null,
   "id": "0d6dda3b",
   "metadata": {
    "ExecuteTime": {
     "end_time": "2021-11-25T23:11:06.963654Z",
     "start_time": "2021-11-25T23:11:06.731644Z"
    }
   },
   "outputs": [],
   "source": [
    "skipped_tracks = skipped['trackName'].value_counts()\n",
    "plt.rcParams['figure.figsize'] = [20, 8]\n",
    "plt.plot(skipped_tracks.head(100), 'o')\n",
    "plt.xticks(rotation = 90)\n",
    "plt.title('Most Skipped Songs')\n",
    "plt.ylabel('Skips')\n",
    "plt.show()"
   ]
  },
  {
   "cell_type": "code",
   "execution_count": null,
   "id": "ee910538",
   "metadata": {
    "ExecuteTime": {
     "end_time": "2021-11-25T23:11:08.607250Z",
     "start_time": "2021-11-25T23:11:08.296686Z"
    }
   },
   "outputs": [],
   "source": [
    "skipped_artists = skipped['artistName'].value_counts()\n",
    "plt.rcParams['figure.figsize'] = [20, 8]\n",
    "plt.plot(skipped_artists.head(100), 'o')\n",
    "plt.xticks(rotation = 90)\n",
    "plt.title('Most Skipped Artists')\n",
    "plt.ylabel('Skips')\n",
    "plt.show()"
   ]
  },
  {
   "cell_type": "markdown",
   "id": "eed1ac6b",
   "metadata": {},
   "source": [
    "### Other Information"
   ]
  },
  {
   "cell_type": "code",
   "execution_count": null,
   "id": "13958e68",
   "metadata": {
    "ExecuteTime": {
     "end_time": "2021-11-25T23:10:01.991727Z",
     "start_time": "2021-11-25T23:10:01.874017Z"
    }
   },
   "outputs": [],
   "source": [
    "# change n to find your n top songs\n",
    "n = 10\n",
    "print(topSongPlays(n))"
   ]
  },
  {
   "cell_type": "code",
   "execution_count": null,
   "id": "e0847345",
   "metadata": {},
   "outputs": [],
   "source": [
    "# Get playtime\n",
    "t = playtime(unskipped)"
   ]
  },
  {
   "cell_type": "markdown",
   "id": "76644316",
   "metadata": {},
   "source": [
    "### Artist/Song specific information"
   ]
  },
  {
   "cell_type": "code",
   "execution_count": null,
   "id": "57d10a97",
   "metadata": {
    "ExecuteTime": {
     "end_time": "2021-11-25T23:10:01.839654Z",
     "start_time": "2021-11-25T23:10:01.801265Z"
    }
   },
   "outputs": [],
   "source": [
    "artist = 'The Backseat Lovers' # change this to an artist of your choice (case sensitive)\n",
    "temp = artistPlayCount(artist)"
   ]
  },
  {
   "cell_type": "code",
   "execution_count": null,
   "id": "b939b221",
   "metadata": {
    "ExecuteTime": {
     "end_time": "2021-11-25T23:10:01.862840Z",
     "start_time": "2021-11-25T23:10:01.841354Z"
    },
    "scrolled": true
   },
   "outputs": [],
   "source": [
    "track = \"Sunburnt\" # change this to a song name of your choice (case sensitive)\n",
    "temp = songPlayCount(track)"
   ]
  },
  {
   "cell_type": "markdown",
   "id": "928ac22c",
   "metadata": {},
   "source": [
    "### Timeframe specific information"
   ]
  },
  {
   "cell_type": "code",
   "execution_count": null,
   "id": "f98ebee5",
   "metadata": {},
   "outputs": [],
   "source": [
    "# Plot top artists since input date\n",
    "# format: 'year-month-day'\n",
    "#         'xxxx-xx-xx'\n",
    "timeframe = '2022-01-01' # change this\n",
    "topArtistsTimeframe(timeframe)"
   ]
  },
  {
   "cell_type": "code",
   "execution_count": null,
   "id": "b871df92",
   "metadata": {},
   "outputs": [],
   "source": [
    "# Plot top songs since input date\n",
    "# format: 'year-month-day'\n",
    "#         'xxxx-xx-xx'\n",
    "timeframe = '2022-01-01' # change this\n",
    "topSongsTimeframe(timeframe)"
   ]
  },
  {
   "cell_type": "code",
   "execution_count": null,
   "id": "c3315125",
   "metadata": {},
   "outputs": [],
   "source": [
    "# Plot top songs since input date\n",
    "# format: 'year-month-day'\n",
    "#         'xxxx-xx-xx'\n",
    "timeframe_lower = '2022-01-01' # change this - lower bound\n",
    "timeframe_upper = '2022-10-30' # change this - upper bound\n",
    "topArtistsTimeframeBounded(timeframe_lower, timeframe_upper)"
   ]
  },
  {
   "cell_type": "code",
   "execution_count": null,
   "id": "11d2171c",
   "metadata": {
    "scrolled": false
   },
   "outputs": [],
   "source": [
    "# Plot top songs since input date\n",
    "# format: 'year-month-day'\n",
    "#         'xxxx-xx-xx'\n",
    "timeframe_lower = '2022-01-01' # change this - lower bound\n",
    "timeframe_upper = '2022-10-31' # change this - upper bound\n",
    "topSongsTimeframeBounded(timeframe_lower, timeframe_upper)"
   ]
  },
  {
   "cell_type": "code",
   "execution_count": null,
   "id": "a425027e",
   "metadata": {},
   "outputs": [],
   "source": [
    "# Get listening time for a given month\n",
    "# inputs - month number and year\n",
    "month = 8 \n",
    "year = 2022 \n",
    "listeningTimeMonth(month, year)"
   ]
  },
  {
   "cell_type": "code",
   "execution_count": null,
   "id": "ac4ae158",
   "metadata": {},
   "outputs": [],
   "source": [
    "# Get listening time for a given artist in hours\n",
    "# Change artist name\n",
    "artist = 'renforshort'\n",
    "listeningTimeArtist(artist)"
   ]
  },
  {
   "cell_type": "code",
   "execution_count": null,
   "id": "282d89ea",
   "metadata": {},
   "outputs": [],
   "source": []
  }
 ],
 "metadata": {
  "kernelspec": {
   "display_name": "Python 3 (ipykernel)",
   "language": "python",
   "name": "python3"
  },
  "language_info": {
   "codemirror_mode": {
    "name": "ipython",
    "version": 3
   },
   "file_extension": ".py",
   "mimetype": "text/x-python",
   "name": "python",
   "nbconvert_exporter": "python",
   "pygments_lexer": "ipython3",
   "version": "3.9.12"
  },
  "vscode": {
   "interpreter": {
    "hash": "0eb5d0a65b500759bcde1c4c1ad0551eaece71d5bef76353acf57400c52edb49"
   }
  }
 },
 "nbformat": 4,
 "nbformat_minor": 5
}
